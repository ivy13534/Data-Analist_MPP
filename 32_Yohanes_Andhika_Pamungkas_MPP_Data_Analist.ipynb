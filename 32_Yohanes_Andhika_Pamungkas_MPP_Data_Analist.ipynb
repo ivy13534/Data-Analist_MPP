{
  "nbformat": 4,
  "nbformat_minor": 0,
  "metadata": {
    "colab": {
      "provenance": [],
      "mount_file_id": "1_3HkA6S3ChUL-4DI2on50DPQGe-wJHy8",
      "authorship_tag": "ABX9TyP1GBzVK4RW/H9gD8dJau78",
      "include_colab_link": true
    },
    "kernelspec": {
      "name": "python3",
      "display_name": "Python 3"
    },
    "language_info": {
      "name": "python"
    }
  },
  "cells": [
    {
      "cell_type": "markdown",
      "metadata": {
        "id": "view-in-github",
        "colab_type": "text"
      },
      "source": [
        "<a href=\"https://colab.research.google.com/github/ivy13534/Data-Analist_MPP/blob/main/32_Yohanes_Andhika_Pamungkas_MPP_Data_Analist.ipynb\" target=\"_parent\"><img src=\"https://colab.research.google.com/assets/colab-badge.svg\" alt=\"Open In Colab\"/></a>"
      ]
    },
    {
      "cell_type": "code",
      "source": [
        "from google.colab import drive\n",
        "drive.mount('/content/drive')"
      ],
      "metadata": {
        "id": "couU9m3X4Ci1"
      },
      "execution_count": null,
      "outputs": []
    },
    {
      "cell_type": "markdown",
      "source": [
        "# Basic Operation"
      ],
      "metadata": {
        "id": "6uBFWHdY5GRt"
      }
    },
    {
      "cell_type": "markdown",
      "source": [
        "Datetime.Date()"
      ],
      "metadata": {
        "id": "eKmiEBNp515N"
      }
    },
    {
      "cell_type": "code",
      "source": [
        "from datetime import date\n",
        "current = date.today()\n",
        "\n",
        "print(\"Hari sekarang adalah :\", current.day)\n",
        "print(\"Bulan sekarang adalah :\", current.month)\n",
        "print(\"Tahun sekarang adalah :\", current.year)\n",
        "\n",
        "format1 = current.strftime(\"%m/%d/%y\")\n",
        "print(\"format1 =\", format1)\n",
        "\n",
        "format2 = current.strftime(\"%b-%d-%Y\")\n",
        "print(\"format2 =\", format2)\n",
        "\n",
        "format3 = current.strftime(\"%d/%m/%Y\")\n",
        "print(\"format3 =\", format3)\n",
        "\n",
        "format4 = current.strftime(\"%B %d, %Y\")\n",
        "print(\"format4 =\", format4)"
      ],
      "metadata": {
        "id": "Tutsqdbm5EmF"
      },
      "execution_count": null,
      "outputs": []
    },
    {
      "cell_type": "markdown",
      "source": [
        "Datetime.Time()"
      ],
      "metadata": {
        "id": "ejwEgfOq56et"
      }
    },
    {
      "cell_type": "code",
      "source": [
        "from datetime import time\n",
        "defaultTime = time()\n",
        "\n",
        "print(\"Jame =\", defaultTime.hour)\n",
        "print(\"Menit =\", defaultTime.minute)\n",
        "print(\"Detik =\", defaultTime.second)\n",
        "print(\"milisecond =\", defaultTime.microsecond)\n",
        "\n",
        "time1= time(10, 5, 25)\n",
        "print(\"time_1 =\", time1)\n",
        "\n",
        "time2= time(hour = 10, minute = 5, second = 25)\n",
        "print(\"time_2 =\", time2)\n",
        "\n",
        "time3= time(hour=10, minute= 5, second=25, microsecond=55)\n",
        "print(\"time_3 =\", time3)\n"
      ],
      "metadata": {
        "id": "NdcbddRw6BIU"
      },
      "execution_count": null,
      "outputs": []
    },
    {
      "cell_type": "markdown",
      "source": [
        "Datetime.Datetime()"
      ],
      "metadata": {
        "id": "m-vWAXPP6XOb"
      }
    },
    {
      "cell_type": "code",
      "source": [
        "from datetime import datetime\n",
        "\n",
        "# Mengambil waktu saat ini\n",
        "current = datetime.now()\n",
        "\n",
        "# Menampilkan tanggal saat ini\n",
        "print(\"Tanggal dan Waktu Sekarang:\", current)\n",
        "\n",
        "# Memisahkan tanggal menjadi bagian-bagian\n",
        "day = current.strftime(\"%d\")\n",
        "print(\"Hari:\", day)\n",
        "month = current.strftime(\"%m\")\n",
        "print(\"Bulan:\", month)\n",
        "year = current.strftime(\"%Y\")\n",
        "print(\"Tahun:\", year)\n",
        "\n",
        "# Memisahkan waktu menjadi bagian-bagian\n",
        "time = current.strftime(\"%H:%M:%S\")\n",
        "print(\"Waktu:\", time)\n",
        "\n",
        "# Menampilkan tanggal dan waktu dengan format tertentu\n",
        "date_time = current.strftime(\"%m/%d/%Y, %H:%M:%S\")\n",
        "print(\"Tanggal dan Waktu:\", date_time)\n",
        "print(\"\\n\")\n",
        "\n",
        "# Contoh penggunaan timestamp\n",
        "timestamp = 1615797322\n",
        "date_time = datetime.fromtimestamp(timestamp)\n",
        "\n",
        "# Menampilkan hasil dari timestamp dengan format tertentu\n",
        "time_1 = date_time.strftime(\"%c\")\n",
        "print(\"Output Pertama:\", time_1)\n",
        "time_2 = date_time.strftime(\"%x\")\n",
        "print(\"Output Kedua:\", time_2)\n",
        "time_3 = date_time.strftime(\"%X\")\n",
        "print(\"Output Ketiga:\", time_3)\n",
        "\n",
        "print(\"\\n\")\n",
        "\n",
        "# Contoh pembuatan objek datetime secara manual\n",
        "manual = datetime(2021, 3, 28, 23, 55, 59, 342380)\n",
        "\n",
        "# Menampilkan informasi dari objek datetime manual\n",
        "print(\"Tahun =\", manual.year)\n",
        "print(\"Bulan =\", manual.month)\n",
        "print(\"Jam =\", manual.hour)\n",
        "print(\"Menit =\", manual.minute)\n",
        "print(\"Detik =\", manual.second)\n",
        "print(\"Microdetik =\", manual.microsecond)\n",
        "print(\"Timestamp =\", manual.timestamp())\n"
      ],
      "metadata": {
        "id": "HGRoz0qI6eQp"
      },
      "execution_count": null,
      "outputs": []
    },
    {
      "cell_type": "markdown",
      "source": [
        "Datetime.timedelta()"
      ],
      "metadata": {
        "id": "y-w6t5O19Eut"
      }
    },
    {
      "cell_type": "code",
      "source": [
        "from datetime import timedelta, datetime\n",
        "\n",
        "present_date_with_time = datetime.now()\n",
        "\n",
        "print(\"Tanggal sekarang:\", present_date_with_time)\n",
        "\n",
        "ten_days_after = present_date_with_time + timedelta(days=10)\n",
        "print('Tanggal setelah 10 hari:', ten_days_after)\n",
        "\n",
        "ten_days_before = present_date_with_time - timedelta(days=10)\n",
        "print('Tanggal sebelum 10 hari:', ten_days_before)\n",
        "\n",
        "one_year_after_today = present_date_with_time + timedelta(days=365)\n",
        "print('Satu tahun setelah tanggal sekarang:', one_year_after_today)\n",
        "\n",
        "one_year_before_today = present_date_with_time - timedelta(days=365)\n",
        "print('Satu tahun sebelum tanggal sekarang:', one_year_before_today)\n",
        "\n",
        "print(\"Resolution:\", timedelta.resolution)\n",
        "\n",
        "print('Total number of seconds in a year:', timedelta(days=365).total_seconds())\n",
        "\n",
        "print(\"\\nApply some operations on timedelta function\\n\")\n",
        "\n",
        "time_after_one_min = present_date_with_time + timedelta(seconds=60)\n",
        "print('Time after one minute:', time_after_one_min)\n",
        "\n",
        "print('Timedelta absolute value:', abs(timedelta(days=20)))\n",
        "\n",
        "print('Timedelta string representation:', str(timedelta(days=5, seconds=40, hours=20, milliseconds=355)))\n",
        "\n",
        "print('Timedelta object representation:', repr(timedelta(days=5, seconds=40, hours=20, milliseconds=355)))\n"
      ],
      "metadata": {
        "colab": {
          "base_uri": "https://localhost:8080/"
        },
        "id": "VCMgR39p9QfT",
        "outputId": "9301b80c-7dc5-4b83-bca7-bfe832956592"
      },
      "execution_count": null,
      "outputs": [
        {
          "output_type": "stream",
          "name": "stdout",
          "text": [
            "Tanggal sekarang: 2024-02-22 04:08:05.674943\n",
            "Tanggal setelah 10 hari: 2024-03-03 04:08:05.674943\n",
            "Tanggal sebelum 10 hari: 2024-02-12 04:08:05.674943\n",
            "Satu tahun setelah tanggal sekarang: 2025-02-21 04:08:05.674943\n",
            "Satu tahun sebelum tanggal sekarang: 2023-02-22 04:08:05.674943\n",
            "Resolution: 0:00:00.000001\n",
            "Total number of seconds in a year: 31536000.0\n",
            "\n",
            "Apply some operations on timedelta function\n",
            "\n",
            "Time after one minute: 2024-02-22 04:09:05.674943\n",
            "Timedelta absolute value: 20 days, 0:00:00\n",
            "Timedelta string representation: 5 days, 20:00:40.355000\n",
            "Timedelta object representation: datetime.timedelta(days=5, seconds=72040, microseconds=355000)\n"
          ]
        }
      ]
    }
  ]
}